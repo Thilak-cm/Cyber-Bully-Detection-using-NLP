{
 "cells": [
  {
   "cell_type": "markdown",
   "id": "bffda0ef",
   "metadata": {},
   "source": [
    "# NLP Project-1 Cyberbully Detection (Text Classification)"
   ]
  },
  {
   "cell_type": "markdown",
   "id": "52bae9f8",
   "metadata": {},
   "source": [
    "## Importing Libraries and Dataset"
   ]
  },
  {
   "cell_type": "code",
   "execution_count": 461,
   "id": "a4bb4896",
   "metadata": {
    "ExecuteTime": {
     "end_time": "2022-05-31T11:13:46.434715Z",
     "start_time": "2022-05-31T11:13:46.256367Z"
    }
   },
   "outputs": [],
   "source": [
    "import pandas as pd\n",
    "import numpy as np\n",
    "import seaborn as sns\n",
    "import matplotlib.pyplot as plt\n",
    "import re\n",
    "from sklearn.model_selection import train_test_split\n",
    "from nltk.stem import WordNetLemmatizer\n",
    "from nltk.corpus import stopwords, wordnet\n",
    "import nltk\n",
    "from nltk import pos_tag\n",
    "from sklearn.feature_extraction.text import TfidfVectorizer\n",
    "from gensim.models import word2vec\n",
    "from sklearn.metrics import log_loss\n",
    "from sklearn.naive_bayes import MultinomialNB\n",
    "\n",
    "words = set(nltk.corpus.words.words())\n",
    "stopwords = stopwords.words('english')\n",
    "%matplotlib inline"
   ]
  },
  {
   "cell_type": "code",
   "execution_count": 462,
   "id": "a917951e",
   "metadata": {
    "ExecuteTime": {
     "end_time": "2022-05-31T11:13:46.617869Z",
     "start_time": "2022-05-31T11:13:46.532495Z"
    }
   },
   "outputs": [],
   "source": [
    "df = pd.read_csv(\"twitter_parsed_dataset.csv\").drop(['index', 'id'], axis=1)"
   ]
  },
  {
   "cell_type": "markdown",
   "id": "9dee0ce4",
   "metadata": {},
   "source": [
    "## EDA and Character-level Preprocessing"
   ]
  },
  {
   "cell_type": "code",
   "execution_count": 463,
   "id": "b0b4bdd5",
   "metadata": {
    "ExecuteTime": {
     "end_time": "2022-05-31T11:13:47.025981Z",
     "start_time": "2022-05-31T11:13:47.021140Z"
    }
   },
   "outputs": [
    {
     "data": {
      "text/plain": [
       "(16851, 3)"
      ]
     },
     "execution_count": 463,
     "metadata": {},
     "output_type": "execute_result"
    }
   ],
   "source": [
    "df.shape"
   ]
  },
  {
   "cell_type": "code",
   "execution_count": 464,
   "id": "3af968c3",
   "metadata": {
    "ExecuteTime": {
     "end_time": "2022-05-31T11:13:47.297073Z",
     "start_time": "2022-05-31T11:13:47.286307Z"
    }
   },
   "outputs": [
    {
     "data": {
      "text/html": [
       "<div>\n",
       "<style scoped>\n",
       "    .dataframe tbody tr th:only-of-type {\n",
       "        vertical-align: middle;\n",
       "    }\n",
       "\n",
       "    .dataframe tbody tr th {\n",
       "        vertical-align: top;\n",
       "    }\n",
       "\n",
       "    .dataframe thead th {\n",
       "        text-align: right;\n",
       "    }\n",
       "</style>\n",
       "<table border=\"1\" class=\"dataframe\">\n",
       "  <thead>\n",
       "    <tr style=\"text-align: right;\">\n",
       "      <th></th>\n",
       "      <th>Text</th>\n",
       "      <th>Annotation</th>\n",
       "      <th>oh_label</th>\n",
       "    </tr>\n",
       "  </thead>\n",
       "  <tbody>\n",
       "    <tr>\n",
       "      <th>0</th>\n",
       "      <td>@halalflaws @biebervalue @greenlinerzjm I read...</td>\n",
       "      <td>none</td>\n",
       "      <td>0.0</td>\n",
       "    </tr>\n",
       "    <tr>\n",
       "      <th>1</th>\n",
       "      <td>@ShreyaBafna3 Now you idiots claim that people...</td>\n",
       "      <td>none</td>\n",
       "      <td>0.0</td>\n",
       "    </tr>\n",
       "    <tr>\n",
       "      <th>2</th>\n",
       "      <td>RT @Mooseoftorment Call me sexist, but when I ...</td>\n",
       "      <td>sexism</td>\n",
       "      <td>1.0</td>\n",
       "    </tr>\n",
       "    <tr>\n",
       "      <th>3</th>\n",
       "      <td>@g0ssipsquirrelx Wrong, ISIS follows the examp...</td>\n",
       "      <td>racism</td>\n",
       "      <td>1.0</td>\n",
       "    </tr>\n",
       "    <tr>\n",
       "      <th>4</th>\n",
       "      <td>#mkr No No No No No No</td>\n",
       "      <td>none</td>\n",
       "      <td>0.0</td>\n",
       "    </tr>\n",
       "  </tbody>\n",
       "</table>\n",
       "</div>"
      ],
      "text/plain": [
       "                                                Text Annotation  oh_label\n",
       "0  @halalflaws @biebervalue @greenlinerzjm I read...       none       0.0\n",
       "1  @ShreyaBafna3 Now you idiots claim that people...       none       0.0\n",
       "2  RT @Mooseoftorment Call me sexist, but when I ...     sexism       1.0\n",
       "3  @g0ssipsquirrelx Wrong, ISIS follows the examp...     racism       1.0\n",
       "4                             #mkr No No No No No No       none       0.0"
      ]
     },
     "execution_count": 464,
     "metadata": {},
     "output_type": "execute_result"
    }
   ],
   "source": [
    "df.head()"
   ]
  },
  {
   "cell_type": "code",
   "execution_count": 465,
   "id": "3cb2605f",
   "metadata": {
    "ExecuteTime": {
     "end_time": "2022-05-31T11:13:47.567377Z",
     "start_time": "2022-05-31T11:13:47.549179Z"
    }
   },
   "outputs": [
    {
     "name": "stdout",
     "output_type": "stream",
     "text": [
      "<class 'pandas.core.frame.DataFrame'>\n",
      "RangeIndex: 16851 entries, 0 to 16850\n",
      "Data columns (total 3 columns):\n",
      " #   Column      Non-Null Count  Dtype  \n",
      "---  ------      --------------  -----  \n",
      " 0   Text        16850 non-null  object \n",
      " 1   Annotation  16848 non-null  object \n",
      " 2   oh_label    16848 non-null  float64\n",
      "dtypes: float64(1), object(2)\n",
      "memory usage: 395.1+ KB\n"
     ]
    }
   ],
   "source": [
    "df.info()"
   ]
  },
  {
   "cell_type": "code",
   "execution_count": 466,
   "id": "de5f2280",
   "metadata": {
    "ExecuteTime": {
     "end_time": "2022-05-31T11:13:48.124235Z",
     "start_time": "2022-05-31T11:13:47.838325Z"
    }
   },
   "outputs": [
    {
     "data": {
      "image/png": "[encoded data removed]",
      "text/plain": [
       "<Figure size 432x288 with 1 Axes>"
      ]
     },
     "metadata": {
      "needs_background": "light"
     },
     "output_type": "display_data"
    },
    {
     "data": {
      "text/plain": [
       "<AxesSubplot:xlabel='oh_label', ylabel='count'>"
      ]
     },
     "execution_count": 466,
     "metadata": {},
     "output_type": "execute_result"
    },
    {
     "data": {
      "image/png": "[encoded data removed]",
      "text/plain": [
       "<Figure size 432x288 with 1 Axes>"
      ]
     },
     "metadata": {
      "needs_background": "light"
     },
     "output_type": "display_data"
    }
   ],
   "source": [
    "sns.countplot(x=df['Annotation'], palette='pastel')\n",
    "plt.show()\n",
    "sns.countplot(x=df['oh_label'], palette='pastel')"
   ]
  },
  {
   "cell_type": "code",
   "execution_count": 467,
   "id": "d0075912",
   "metadata": {
    "ExecuteTime": {
     "end_time": "2022-05-31T11:13:48.601141Z",
     "start_time": "2022-05-31T11:13:48.596487Z"
    }
   },
   "outputs": [
    {
     "data": {
      "text/plain": [
       "'@halalflaws @biebervalue @greenlinerzjm I read them in context.No change in meaning. The history of Islamic slavery. https://t.co/xWJzpSodGj'"
      ]
     },
     "execution_count": 467,
     "metadata": {},
     "output_type": "execute_result"
    }
   ],
   "source": [
    "g = df['Text'][0]\n",
    "g"
   ]
  },
  {
   "cell_type": "code",
   "execution_count": 468,
   "id": "7c955cf3",
   "metadata": {
    "ExecuteTime": {
     "end_time": "2022-05-31T11:13:48.840147Z",
     "start_time": "2022-05-31T11:13:48.835343Z"
    }
   },
   "outputs": [],
   "source": [
    "def clean_text(corpus):\n",
    "    g = corpus\n",
    "    g = re.sub(r'\\S*http?\\S*', \"\", str(g)) # remove http links\n",
    "    g = re.sub(r\"\\d?\", \"\", g)\n",
    "    g = re.sub(r\"\\S*@[A-Za-z]*\\S*\",\"\", g) # remove tags that people made, eg. @joebiden_official\n",
    "    g = [x.lower() for x in str(g).split() if not x in stopwords] # remove stopwords and lowercase\n",
    "    g = re.sub(r'[^\\w\\s]', '', \" \".join(g)) # remove punctuations\n",
    "    emoji_pattern = u\"\\U0001F600-\\U0001F64F\" #remove emoticons\n",
    "    re.sub(emoji_pattern, '', g)\n",
    "#     g = \" \".join(w for w in nltk.wordpunct_tokenize(g) if w.lower() in words or not w.isalpha())\n",
    "    return g"
   ]
  },
  {
   "cell_type": "code",
   "execution_count": 469,
   "id": "0f0fa29c",
   "metadata": {
    "ExecuteTime": {
     "end_time": "2022-05-31T11:13:50.612104Z",
     "start_time": "2022-05-31T11:13:49.101123Z"
    }
   },
   "outputs": [
    {
     "data": {
      "text/html": [
       "<div>\n",
       "<style scoped>\n",
       "    .dataframe tbody tr th:only-of-type {\n",
       "        vertical-align: middle;\n",
       "    }\n",
       "\n",
       "    .dataframe tbody tr th {\n",
       "        vertical-align: top;\n",
       "    }\n",
       "\n",
       "    .dataframe thead th {\n",
       "        text-align: right;\n",
       "    }\n",
       "</style>\n",
       "<table border=\"1\" class=\"dataframe\">\n",
       "  <thead>\n",
       "    <tr style=\"text-align: right;\">\n",
       "      <th></th>\n",
       "      <th>Text</th>\n",
       "      <th>Annotation</th>\n",
       "      <th>oh_label</th>\n",
       "      <th>cleaned_text</th>\n",
       "    </tr>\n",
       "  </thead>\n",
       "  <tbody>\n",
       "    <tr>\n",
       "      <th>0</th>\n",
       "      <td>@halalflaws @biebervalue @greenlinerzjm I read...</td>\n",
       "      <td>none</td>\n",
       "      <td>0.0</td>\n",
       "      <td>i read contextno change meaning the history is...</td>\n",
       "    </tr>\n",
       "    <tr>\n",
       "      <th>1</th>\n",
       "      <td>@ShreyaBafna3 Now you idiots claim that people...</td>\n",
       "      <td>none</td>\n",
       "      <td>0.0</td>\n",
       "      <td>now idiots claim people tried stop becoming te...</td>\n",
       "    </tr>\n",
       "    <tr>\n",
       "      <th>2</th>\n",
       "      <td>RT @Mooseoftorment Call me sexist, but when I ...</td>\n",
       "      <td>sexism</td>\n",
       "      <td>1.0</td>\n",
       "      <td>rt call sexist i go auto place id rather talk guy</td>\n",
       "    </tr>\n",
       "    <tr>\n",
       "      <th>3</th>\n",
       "      <td>@g0ssipsquirrelx Wrong, ISIS follows the examp...</td>\n",
       "      <td>racism</td>\n",
       "      <td>1.0</td>\n",
       "      <td>wrong isis follows example mohammed quran exactly</td>\n",
       "    </tr>\n",
       "    <tr>\n",
       "      <th>4</th>\n",
       "      <td>#mkr No No No No No No</td>\n",
       "      <td>none</td>\n",
       "      <td>0.0</td>\n",
       "      <td>mkr no no no no no no</td>\n",
       "    </tr>\n",
       "  </tbody>\n",
       "</table>\n",
       "</div>"
      ],
      "text/plain": [
       "                                                Text Annotation  oh_label  \\\n",
       "0  @halalflaws @biebervalue @greenlinerzjm I read...       none       0.0   \n",
       "1  @ShreyaBafna3 Now you idiots claim that people...       none       0.0   \n",
       "2  RT @Mooseoftorment Call me sexist, but when I ...     sexism       1.0   \n",
       "3  @g0ssipsquirrelx Wrong, ISIS follows the examp...     racism       1.0   \n",
       "4                             #mkr No No No No No No       none       0.0   \n",
       "\n",
       "                                        cleaned_text  \n",
       "0  i read contextno change meaning the history is...  \n",
       "1  now idiots claim people tried stop becoming te...  \n",
       "2  rt call sexist i go auto place id rather talk guy  \n",
       "3  wrong isis follows example mohammed quran exactly  \n",
       "4                              mkr no no no no no no  "
      ]
     },
     "execution_count": 469,
     "metadata": {},
     "output_type": "execute_result"
    }
   ],
   "source": [
    "df['cleaned_text'] = df['Text'].apply(clean_text)\n",
    "df.head()"
   ]
  },
  {
   "cell_type": "code",
   "execution_count": 470,
   "id": "23340c62",
   "metadata": {
    "ExecuteTime": {
     "end_time": "2022-05-31T11:13:50.916652Z",
     "start_time": "2022-05-31T11:13:50.614567Z"
    }
   },
   "outputs": [
    {
     "data": {
      "text/plain": [
       "<AxesSubplot:xlabel='cleaned_text', ylabel='Count'>"
      ]
     },
     "execution_count": 470,
     "metadata": {},
     "output_type": "execute_result"
    },
    {
     "data": {
      "image/png": "[encoded data removed]",
      "text/plain": [
       "<Figure size 1080x432 with 1 Axes>"
      ]
     },
     "metadata": {
      "needs_background": "light"
     },
     "output_type": "display_data"
    }
   ],
   "source": [
    "plt.figure(figsize=(15,6))\n",
    "sns.histplot(df['cleaned_text'].apply(len))"
   ]
  },
  {
   "cell_type": "code",
   "execution_count": 471,
   "id": "7936804f",
   "metadata": {
    "ExecuteTime": {
     "end_time": "2022-05-31T11:13:51.117294Z",
     "start_time": "2022-05-31T11:13:50.919923Z"
    }
   },
   "outputs": [
    {
     "data": {
      "text/plain": [
       "<AxesSubplot:xlabel='Annotation', ylabel='cleaned_text'>"
      ]
     },
     "execution_count": 471,
     "metadata": {},
     "output_type": "execute_result"
    },
    {
     "data": {
      "image/png": "[encoded data removed]",
      "text/plain": [
       "<Figure size 1080x432 with 1 Axes>"
      ]
     },
     "metadata": {
      "needs_background": "light"
     },
     "output_type": "display_data"
    }
   ],
   "source": [
    "plt.figure(figsize=(15,6))\n",
    "sns.boxplot(y=df['cleaned_text'].apply(len), x=df['Annotation'], palette='pastel')"
   ]
  },
  {
   "cell_type": "code",
   "execution_count": 472,
   "id": "905801ca",
   "metadata": {
    "ExecuteTime": {
     "end_time": "2022-05-31T11:13:51.295559Z",
     "start_time": "2022-05-31T11:13:51.119919Z"
    }
   },
   "outputs": [
    {
     "data": {
      "text/plain": [
       "<AxesSubplot:xlabel='oh_label', ylabel='cleaned_text'>"
      ]
     },
     "execution_count": 472,
     "metadata": {},
     "output_type": "execute_result"
    },
    {
     "data": {
      "image/png": "[encoded data removed]",
      "text/plain": [
       "<Figure size 1080x432 with 1 Axes>"
      ]
     },
     "metadata": {
      "needs_background": "light"
     },
     "output_type": "display_data"
    }
   ],
   "source": [
    "plt.figure(figsize=(15,6))\n",
    "sns.boxplot(y=df['cleaned_text'].apply(len), x=df['oh_label'], palette='pastel')"
   ]
  },
  {
   "cell_type": "code",
   "execution_count": 473,
   "id": "a28c596c",
   "metadata": {
    "ExecuteTime": {
     "end_time": "2022-05-31T11:13:51.302096Z",
     "start_time": "2022-05-31T11:13:51.297995Z"
    }
   },
   "outputs": [],
   "source": [
    "def get_wordnet_pos(word):\n",
    "    pos = pos_tag([word])[0][1][0]\n",
    "    \n",
    "    if pos == 'N':\n",
    "        return wordnet.NOUN\n",
    "    elif pos == \"J\":\n",
    "        return wordnet.ADJ\n",
    "    elif pos == 'V':\n",
    "        return wordnet.VERB\n",
    "    elif pos == \"R\":\n",
    "        return wordnet.ADV\n",
    "    else:\n",
    "        return 'n'"
   ]
  },
  {
   "cell_type": "code",
   "execution_count": 474,
   "id": "ab411847",
   "metadata": {
    "ExecuteTime": {
     "end_time": "2022-05-31T11:13:51.308053Z",
     "start_time": "2022-05-31T11:13:51.304315Z"
    }
   },
   "outputs": [],
   "source": [
    "lemmatizer = WordNetLemmatizer()\n",
    "def lemma_clean_text(text):\n",
    "    sample = text\n",
    "    sample = sample.split()\n",
    "    sample = [lemmatizer.lemmatize(word, pos=get_wordnet_pos(word)) for word in sample]\n",
    "    sample = ' '.join(sample)\n",
    "     \n",
    "    return sample"
   ]
  },
  {
   "cell_type": "code",
   "execution_count": 475,
   "id": "0c3f3925",
   "metadata": {
    "ExecuteTime": {
     "end_time": "2022-05-31T11:14:18.969394Z",
     "start_time": "2022-05-31T11:13:51.311656Z"
    }
   },
   "outputs": [],
   "source": [
    "# should take under 30 seconds\n",
    "df['correct_text'] = df['cleaned_text'].apply(lemma_clean_text)"
   ]
  },
  {
   "cell_type": "code",
   "execution_count": 476,
   "id": "7ee6c1fd",
   "metadata": {
    "ExecuteTime": {
     "end_time": "2022-05-31T11:14:18.989158Z",
     "start_time": "2022-05-31T11:14:18.971724Z"
    }
   },
   "outputs": [],
   "source": [
    "df.drop(4, inplace=True)"
   ]
  },
  {
   "cell_type": "code",
   "execution_count": 477,
   "id": "5be4a232",
   "metadata": {
    "ExecuteTime": {
     "end_time": "2022-05-31T11:14:19.017890Z",
     "start_time": "2022-05-31T11:14:18.997056Z"
    }
   },
   "outputs": [
    {
     "data": {
      "text/html": [
       "<div>\n",
       "<style scoped>\n",
       "    .dataframe tbody tr th:only-of-type {\n",
       "        vertical-align: middle;\n",
       "    }\n",
       "\n",
       "    .dataframe tbody tr th {\n",
       "        vertical-align: top;\n",
       "    }\n",
       "\n",
       "    .dataframe thead th {\n",
       "        text-align: right;\n",
       "    }\n",
       "</style>\n",
       "<table border=\"1\" class=\"dataframe\">\n",
       "  <thead>\n",
       "    <tr style=\"text-align: right;\">\n",
       "      <th></th>\n",
       "      <th>Text</th>\n",
       "      <th>Annotation</th>\n",
       "      <th>oh_label</th>\n",
       "      <th>cleaned_text</th>\n",
       "      <th>correct_text</th>\n",
       "    </tr>\n",
       "  </thead>\n",
       "  <tbody>\n",
       "    <tr>\n",
       "      <th>0</th>\n",
       "      <td>@halalflaws @biebervalue @greenlinerzjm I read...</td>\n",
       "      <td>none</td>\n",
       "      <td>0.0</td>\n",
       "      <td>i read contextno change meaning the history is...</td>\n",
       "      <td>i read contextno change meaning the history is...</td>\n",
       "    </tr>\n",
       "    <tr>\n",
       "      <th>1</th>\n",
       "      <td>@ShreyaBafna3 Now you idiots claim that people...</td>\n",
       "      <td>none</td>\n",
       "      <td>0.0</td>\n",
       "      <td>now idiots claim people tried stop becoming te...</td>\n",
       "      <td>now idiot claim people try stop become terrori...</td>\n",
       "    </tr>\n",
       "    <tr>\n",
       "      <th>2</th>\n",
       "      <td>RT @Mooseoftorment Call me sexist, but when I ...</td>\n",
       "      <td>sexism</td>\n",
       "      <td>1.0</td>\n",
       "      <td>rt call sexist i go auto place id rather talk guy</td>\n",
       "      <td>rt call sexist i go auto place id rather talk guy</td>\n",
       "    </tr>\n",
       "    <tr>\n",
       "      <th>3</th>\n",
       "      <td>@g0ssipsquirrelx Wrong, ISIS follows the examp...</td>\n",
       "      <td>racism</td>\n",
       "      <td>1.0</td>\n",
       "      <td>wrong isis follows example mohammed quran exactly</td>\n",
       "      <td>wrong isi follow example mohammed quran exactly</td>\n",
       "    </tr>\n",
       "    <tr>\n",
       "      <th>5</th>\n",
       "      <td>RT @TRobinsonNewEra: http://t.co/nkkCbpcHEo Sa...</td>\n",
       "      <td>none</td>\n",
       "      <td>0.0</td>\n",
       "      <td>rt saudi preacher raped tortured five yearold ...</td>\n",
       "      <td>rt saudi preacher rap torture five yearold dau...</td>\n",
       "    </tr>\n",
       "  </tbody>\n",
       "</table>\n",
       "</div>"
      ],
      "text/plain": [
       "                                                Text Annotation  oh_label  \\\n",
       "0  @halalflaws @biebervalue @greenlinerzjm I read...       none       0.0   \n",
       "1  @ShreyaBafna3 Now you idiots claim that people...       none       0.0   \n",
       "2  RT @Mooseoftorment Call me sexist, but when I ...     sexism       1.0   \n",
       "3  @g0ssipsquirrelx Wrong, ISIS follows the examp...     racism       1.0   \n",
       "5  RT @TRobinsonNewEra: http://t.co/nkkCbpcHEo Sa...       none       0.0   \n",
       "\n",
       "                                        cleaned_text  \\\n",
       "0  i read contextno change meaning the history is...   \n",
       "1  now idiots claim people tried stop becoming te...   \n",
       "2  rt call sexist i go auto place id rather talk guy   \n",
       "3  wrong isis follows example mohammed quran exactly   \n",
       "5  rt saudi preacher raped tortured five yearold ...   \n",
       "\n",
       "                                        correct_text  \n",
       "0  i read contextno change meaning the history is...  \n",
       "1  now idiot claim people try stop become terrori...  \n",
       "2  rt call sexist i go auto place id rather talk guy  \n",
       "3    wrong isi follow example mohammed quran exactly  \n",
       "5  rt saudi preacher rap torture five yearold dau...  "
      ]
     },
     "execution_count": 477,
     "metadata": {},
     "output_type": "execute_result"
    }
   ],
   "source": [
    "df.head()"
   ]
  },
  {
   "cell_type": "code",
   "execution_count": 480,
   "id": "9e7fa6ca",
   "metadata": {
    "ExecuteTime": {
     "end_time": "2022-05-31T11:14:35.582636Z",
     "start_time": "2022-05-31T11:14:35.565533Z"
    }
   },
   "outputs": [
    {
     "data": {
      "text/plain": [
       "Text          1\n",
       "Annotation    3\n",
       "oh_label      3\n",
       "dtype: int64"
      ]
     },
     "execution_count": 480,
     "metadata": {},
     "output_type": "execute_result"
    }
   ],
   "source": [
    "df.isna().sum()[df.isna().sum() != 0]"
   ]
  },
  {
   "cell_type": "code",
   "execution_count": 481,
   "id": "52deeaa9",
   "metadata": {
    "ExecuteTime": {
     "end_time": "2022-05-31T11:14:43.073918Z",
     "start_time": "2022-05-31T11:14:43.062233Z"
    }
   },
   "outputs": [],
   "source": [
    "df.dropna(inplace=True)"
   ]
  },
  {
   "cell_type": "markdown",
   "id": "b5cf8bf5",
   "metadata": {},
   "source": [
    "## Feature Extraction and EDA"
   ]
  },
  {
   "cell_type": "code",
   "execution_count": 482,
   "id": "d285a6fd",
   "metadata": {
    "ExecuteTime": {
     "end_time": "2022-05-31T11:14:44.522114Z",
     "start_time": "2022-05-31T11:14:44.242775Z"
    }
   },
   "outputs": [
    {
     "data": {
      "text/plain": [
       "<AxesSubplot:xlabel='correct_text', ylabel='Count'>"
      ]
     },
     "execution_count": 482,
     "metadata": {},
     "output_type": "execute_result"
    },
    {
     "data": {
      "image/png": "[encoded data removed]",
      "text/plain": [
       "<Figure size 1080x432 with 1 Axes>"
      ]
     },
     "metadata": {
      "needs_background": "light"
     },
     "output_type": "display_data"
    }
   ],
   "source": [
    "plt.figure(figsize=(15,6))\n",
    "sns.histplot(df['correct_text'].apply(len))"
   ]
  },
  {
   "cell_type": "code",
   "execution_count": 483,
   "id": "93f04079",
   "metadata": {
    "ExecuteTime": {
     "end_time": "2022-05-31T11:14:44.535333Z",
     "start_time": "2022-05-31T11:14:44.524611Z"
    }
   },
   "outputs": [],
   "source": [
    "df['word_count'] = df['correct_text'].apply(len)"
   ]
  },
  {
   "cell_type": "markdown",
   "id": "9f62f188",
   "metadata": {},
   "source": [
    "## Encoding of categorical columns"
   ]
  },
  {
   "cell_type": "code",
   "execution_count": 484,
   "id": "a43a3627",
   "metadata": {
    "ExecuteTime": {
     "end_time": "2022-05-31T11:14:44.811549Z",
     "start_time": "2022-05-31T11:14:44.800233Z"
    }
   },
   "outputs": [],
   "source": [
    "df = pd.concat([df.drop('Annotation', axis=1), pd.get_dummies(df['Annotation'])], axis=1)"
   ]
  },
  {
   "cell_type": "markdown",
   "id": "e0d82c05",
   "metadata": {},
   "source": [
    "## Word Clouds"
   ]
  },
  {
   "cell_type": "markdown",
   "id": "6b45c259",
   "metadata": {
    "ExecuteTime": {
     "end_time": "2022-05-30T14:12:16.861733Z",
     "start_time": "2022-05-30T14:12:16.854311Z"
    }
   },
   "source": [
    "find out how to download wordcloud python package (its not working)"
   ]
  },
  {
   "cell_type": "markdown",
   "id": "a840b3f4",
   "metadata": {},
   "source": [
    "# Corpus Assembly and Modelling"
   ]
  },
  {
   "cell_type": "markdown",
   "id": "0f214deb",
   "metadata": {},
   "source": [
    "## Train test split"
   ]
  },
  {
   "cell_type": "code",
   "execution_count": 485,
   "id": "f5c6af51",
   "metadata": {
    "ExecuteTime": {
     "end_time": "2022-05-31T11:14:45.737095Z",
     "start_time": "2022-05-31T11:14:45.724630Z"
    }
   },
   "outputs": [],
   "source": [
    "X = df[['correct_text', 'word_count', 'none', 'racism', 'sexism']]\n",
    "y = df['oh_label']\n",
    "\n",
    "X_train, X_test, y_train, y_test = train_test_split(X, y, test_size=0.33, random_state=42)"
   ]
  },
  {
   "cell_type": "code",
   "execution_count": 486,
   "id": "81bcaf58",
   "metadata": {
    "ExecuteTime": {
     "end_time": "2022-05-31T11:14:45.855110Z",
     "start_time": "2022-05-31T11:14:45.850899Z"
    }
   },
   "outputs": [
    {
     "name": "stdout",
     "output_type": "stream",
     "text": [
      "(11287, 5) (11287,) (5560, 5) (5560,)\n"
     ]
    }
   ],
   "source": [
    "print(X_train.shape, y_train.shape, X_test.shape, y_test.shape)"
   ]
  },
  {
   "cell_type": "markdown",
   "id": "dd6fd1bf",
   "metadata": {},
   "source": [
    "### Tokenization and Vectorization of correct_text column"
   ]
  },
  {
   "cell_type": "code",
   "execution_count": 487,
   "id": "d49aac7e",
   "metadata": {
    "ExecuteTime": {
     "end_time": "2022-05-31T11:14:46.234298Z",
     "start_time": "2022-05-31T11:14:46.231153Z"
    }
   },
   "outputs": [],
   "source": [
    "tfidf = TfidfVectorizer(stop_words='english')"
   ]
  },
  {
   "cell_type": "code",
   "execution_count": 488,
   "id": "4312cad6",
   "metadata": {
    "ExecuteTime": {
     "end_time": "2022-05-31T11:14:46.717800Z",
     "start_time": "2022-05-31T11:14:46.467675Z"
    }
   },
   "outputs": [],
   "source": [
    "X_train_vect = tfidf.fit_transform(X_train['correct_text'])\n",
    "X_test_vect = tfidf.transform(X_test['correct_text'])"
   ]
  },
  {
   "cell_type": "code",
   "execution_count": 489,
   "id": "5084dac2",
   "metadata": {
    "ExecuteTime": {
     "end_time": "2022-05-31T11:14:46.726722Z",
     "start_time": "2022-05-31T11:14:46.720366Z"
    }
   },
   "outputs": [],
   "source": [
    "X_train = X_train.reset_index()\n",
    "X_test = X_test.reset_index()"
   ]
  },
  {
   "cell_type": "code",
   "execution_count": 490,
   "id": "05271c08",
   "metadata": {
    "ExecuteTime": {
     "end_time": "2022-05-31T11:14:47.195123Z",
     "start_time": "2022-05-31T11:14:46.819158Z"
    }
   },
   "outputs": [],
   "source": [
    "x_t1 = pd.DataFrame(X_train_vect.toarray(),columns=tfidf.get_feature_names())\n",
    "x_t2 = pd.DataFrame(X_test_vect.toarray(),columns=tfidf.get_feature_names())"
   ]
  },
  {
   "cell_type": "code",
   "execution_count": 491,
   "id": "58540293",
   "metadata": {
    "ExecuteTime": {
     "end_time": "2022-05-31T11:14:52.314650Z",
     "start_time": "2022-05-31T11:14:47.235025Z"
    }
   },
   "outputs": [],
   "source": [
    "X_train = pd.concat([X_train[['word_count', 'none', 'racism', 'sexism']], x_t1], axis=1)\n",
    "X_test = pd.concat([X_test[['word_count', 'none', 'racism', 'sexism']], x_t2], axis=1)"
   ]
  },
  {
   "cell_type": "code",
   "execution_count": 492,
   "id": "eb8a40bd",
   "metadata": {
    "ExecuteTime": {
     "end_time": "2022-05-31T11:14:55.575516Z",
     "start_time": "2022-05-31T11:14:52.317922Z"
    }
   },
   "outputs": [
    {
     "data": {
      "text/plain": [
       "MultinomialNB()"
      ]
     },
     "execution_count": 492,
     "metadata": {},
     "output_type": "execute_result"
    }
   ],
   "source": [
    "clf = MultinomialNB()\n",
    "clf.fit(X_train, y_train)"
   ]
  },
  {
   "cell_type": "code",
   "execution_count": 493,
   "id": "8783f488",
   "metadata": {
    "ExecuteTime": {
     "end_time": "2022-05-31T11:14:56.532826Z",
     "start_time": "2022-05-31T11:14:55.579810Z"
    }
   },
   "outputs": [],
   "source": [
    "pred = clf.predict(X_test)"
   ]
  },
  {
   "cell_type": "code",
   "execution_count": 496,
   "id": "12ae94ab",
   "metadata": {
    "ExecuteTime": {
     "end_time": "2022-05-31T11:15:30.262181Z",
     "start_time": "2022-05-31T11:15:30.255284Z"
    }
   },
   "outputs": [
    {
     "name": "stdout",
     "output_type": "stream",
     "text": [
      "logloss: 0.00000 \n"
     ]
    }
   ],
   "source": [
    "print(\"logloss: %0.5f \" % log_loss(y_test.valuesx, pred))"
   ]
  },
  {
   "cell_type": "code",
   "execution_count": 497,
   "id": "7dce46be",
   "metadata": {
    "ExecuteTime": {
     "end_time": "2022-05-31T11:17:01.861010Z",
     "start_time": "2022-05-31T11:17:01.850803Z"
    }
   },
   "outputs": [
    {
     "data": {
      "text/plain": [
       "array([0., 0., 1., ..., 0., 1., 1.])"
      ]
     },
     "execution_count": 497,
     "metadata": {},
     "output_type": "execute_result"
    }
   ],
   "source": [
    "pred"
   ]
  },
  {
   "cell_type": "code",
   "execution_count": 498,
   "id": "476d1ce8",
   "metadata": {
    "ExecuteTime": {
     "end_time": "2022-05-31T11:17:07.125395Z",
     "start_time": "2022-05-31T11:17:07.112737Z"
    }
   },
   "outputs": [
    {
     "data": {
      "text/plain": [
       "2752     0.0\n",
       "1571     0.0\n",
       "11935    1.0\n",
       "15507    1.0\n",
       "4989     0.0\n",
       "        ... \n",
       "3084     1.0\n",
       "13004    0.0\n",
       "3798     0.0\n",
       "1502     1.0\n",
       "4999     1.0\n",
       "Name: oh_label, Length: 5560, dtype: float64"
      ]
     },
     "execution_count": 498,
     "metadata": {},
     "output_type": "execute_result"
    }
   ],
   "source": [
    "y_test"
   ]
  },
  {
   "cell_type": "code",
   "execution_count": 503,
   "id": "7a030823",
   "metadata": {
    "ExecuteTime": {
     "end_time": "2022-05-31T11:18:12.276055Z",
     "start_time": "2022-05-31T11:18:12.272912Z"
    }
   },
   "outputs": [],
   "source": [
    "error = pred-y_test"
   ]
  },
  {
   "cell_type": "code",
   "execution_count": 505,
   "id": "fc9af09e",
   "metadata": {
    "ExecuteTime": {
     "end_time": "2022-05-31T11:18:32.776060Z",
     "start_time": "2022-05-31T11:18:32.769032Z"
    }
   },
   "outputs": [
    {
     "data": {
      "text/plain": [
       "Series([], Name: oh_label, dtype: float64)"
      ]
     },
     "execution_count": 505,
     "metadata": {},
     "output_type": "execute_result"
    }
   ],
   "source": [
    "error[error == 1]"
   ]
  },
  {
   "cell_type": "code",
   "execution_count": null,
   "id": "8871ced6",
   "metadata": {},
   "outputs": [],
   "source": []
  }
 ],
 "metadata": {
  "kernelspec": {
   "display_name": "Python 3",
   "language": "python",
   "name": "python3"
  },
  "language_info": {
   "codemirror_mode": {
    "name": "ipython",
    "version": 3
   },
   "file_extension": ".py",
   "mimetype": "text/x-python",
   "name": "python",
   "nbconvert_exporter": "python",
   "pygments_lexer": "ipython3",
   "version": "3.8.8"
  }
 },
 "nbformat": 4,
 "nbformat_minor": 5
}
